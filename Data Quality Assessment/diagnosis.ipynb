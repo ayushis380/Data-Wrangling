{
 "cells": [
  {
   "cell_type": "code",
   "execution_count": 13,
   "id": "17cf5fb7",
   "metadata": {},
   "outputs": [
    {
     "name": "stdout",
     "output_type": "stream",
     "text": [
      "Total number of patient ids:  38\n",
      "Number of rows in excel:  31404 \n",
      "\n",
      "00433ff44e321af809a89ad0facf79951b8e9dfd    2421\n",
      "221615209ea5c5a88f4e588b3878e8cd8da8a3c8    2390\n",
      "16f07648596bc55c120330f76211c0356efb259a    2333\n",
      "9cab24d7325547465b6439a5aea68b6efebace47    1829\n",
      "50996078545fe61235e48ead982a4d89895bca80    1578\n",
      "ef55467019f9f00805cf2dfe34cd4fbefe193c23    1552\n",
      "6bd1c6cc1bfb46e7c860acb41edfd55b3dac4fa8    1538\n",
      "4d302dd44bc6c9b5f0a2d40f7bb08e591b7d489c    1524\n",
      "22e3b3b96da711bdf73d24fe6886c083f12ca3e2    1375\n",
      "fc5d96edf7ad36e67778a76f5650a05e51377e47    1298\n",
      "d0a6fc0cd034f76f82a6671f63dba4b7043e6bc2    1275\n",
      "580043e2b64b6e170ad284101375bdedd71ec231    1105\n",
      "4fc28c876171f6f6b5444c93b588873e3a45d852    1078\n",
      "282cfd8256b0df98543f4b06111248ab20a42e4e    1076\n",
      "a4762af8019b6156c4a44a8c4ee26edc0e5f7c7f    1070\n",
      "45a1e9fa47447743e7741988fb6d77e7b3534019    1004\n",
      "447e02d2ba1c2e4f150482d0b7501c0421b863b4     813\n",
      "d05338164aa97ae4126b09516ffaa86ed2a94767     777\n",
      "9b08dda43fc417f8ec660600719abec2ad57e0d5     737\n",
      "deccea2d56c863ba8c0100f8649bc8d34e3ef9a1     732\n",
      "aeca465e043df9c7b1b61d3d6c088f7cd62df1c1     694\n",
      "7ca2ea908347a084b33e1fff3f449e9613a8aefa     639\n",
      "6e869a4694d9304d83af737945d5578d3e785d15     371\n",
      "37b277104143a6caf0130757a40cf4529f1d5230     340\n",
      "7c5b6d57dce47951d5ef467b25112f1001fb1dbe     299\n",
      "69120ee1dbd1a24fcae0e7d823019bbe8174ab2e     279\n",
      "07cf5bdceecb2df097c992626f3ebc0743461ee4     220\n",
      "7236afd3a5e954cc08931551abbf2d8ef2e72247     183\n",
      "42872acae6affcb31dbf33dd52842fb94717c8e1     141\n",
      "1a6dbba783a044402848f758f9e3b7746108e400     126\n",
      "3b47db70ced94f64bf268d814d21a158e7075858     124\n",
      "1bb7996a1435c9e4f650713cbbd2db7b9747c75b     102\n",
      "6be30161d324ba51fd3f4cb8b39f5f36bf14fb89      98\n",
      "7a5ab033cf5560ee6fd688ab906c49f3fd1d0a32      89\n",
      "c45f42c418ebd65d25d10276a3f2a8ba33d7d6c5      70\n",
      "1a7470c0a3b676915582d2420370aa39e13dfa09      68\n",
      "31a4424b0bfdecc120449950bcd74e2ff08aca9d      46\n",
      "fb5fe7dfa1a03f7d823c62e51d3f6a9ca96bc34a      10\n",
      "Name: patient_id, dtype: int64\n"
     ]
    }
   ],
   "source": [
    "import pandas as pd\n",
    "import numpy as np\n",
    "import matplotlib.pyplot as plt\n",
    "%matplotlib inline\n",
    "data = pd.read_csv(\"diagnosis.csv\")\n",
    "\n",
    "each_val = data[\"patient_id\"].value_counts()\n",
    "print(\"Total number of patient ids: \", len(each_val))\n",
    "print(\"Number of rows in excel: \", sum(each_val),\"\\n\")\n",
    "print(each_val)\n"
   ]
  },
  {
   "cell_type": "code",
   "execution_count": 14,
   "id": "e8538293",
   "metadata": {},
   "outputs": [
    {
     "name": "stdout",
     "output_type": "stream",
     "text": [
      "ICD-10-CM    26087\n",
      "ICD-9-CM      5317\n",
      "Name: code_system, dtype: int64\n"
     ]
    },
    {
     "data": {
      "image/png": "[encoded data removed]",
      "text/plain": [
       "<Figure size 432x288 with 1 Axes>"
      ]
     },
     "metadata": {
      "needs_background": "light"
     },
     "output_type": "display_data"
    }
   ],
   "source": [
    "import pandas as pd\n",
    "import numpy as np\n",
    "import matplotlib.pyplot as plt\n",
    "%matplotlib inline\n",
    "data = pd.read_csv(\"diagnosis.csv\")\n",
    "\n",
    "each_val = data[\"code_system\"].value_counts()\n",
    "print(each_val)\n",
    "plt.bar(each_val.index, each_val.values)\n",
    "for i, v in enumerate(each_val.values):\n",
    "    plt.text(i, v, str(round(v/31404*100, 2))+\"%\", ha='center', va='bottom')\n",
    "plt.xlabel(\"Code Systems\", fontsize= 14)\n",
    "plt.ylabel(\"Total Count\", fontsize= 14)\n",
    "plt.title(\"Percentage distribution for Code Systems\")\n",
    "plt.show()"
   ]
  },
  {
   "cell_type": "code",
   "execution_count": 28,
   "id": "635a72c1",
   "metadata": {},
   "outputs": [
    {
     "name": "stdout",
     "output_type": "stream",
     "text": [
      "Oldest date:  20110104\n",
      "Latest date:  20191130\n"
     ]
    }
   ],
   "source": [
    "import pandas as pd\n",
    "import numpy as np\n",
    "import matplotlib.pyplot as plt\n",
    "%matplotlib inline\n",
    "data = pd.read_csv(\"diagnosis.csv\")\n",
    "\n",
    "date_ranges = data[\"date\"]\n",
    "oldest_date = min(date_ranges)\n",
    "newest_date = max(date_ranges)\n",
    "print(\"Oldest date: \", oldest_date)\n",
    "print(\"Latest date: \", newest_date)"
   ]
  }
 ],
 "metadata": {
  "kernelspec": {
   "display_name": "Python 3",
   "language": "python",
   "name": "python3"
  },
  "language_info": {
   "codemirror_mode": {
    "name": "ipython",
    "version": 3
   },
   "file_extension": ".py",
   "mimetype": "text/x-python",
   "name": "python",
   "nbconvert_exporter": "python",
   "pygments_lexer": "ipython3",
   "version": "3.8.8"
  }
 },
 "nbformat": 4,
 "nbformat_minor": 5
}
