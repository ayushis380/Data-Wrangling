{
 "cells": [
  {
   "cell_type": "code",
   "execution_count": 2,
   "id": "502bc9b5",
   "metadata": {},
   "outputs": [],
   "source": [
    "import pandas as pd"
   ]
  },
  {
   "cell_type": "code",
   "execution_count": 48,
   "id": "baed42fc",
   "metadata": {},
   "outputs": [
    {
     "name": "stdout",
     "output_type": "stream",
     "text": [
      "Highest Weight Value:  71.1\n",
      "Sex of Highest Weight Value:  male\n",
      "Mean of the Highest Weight Value:  29.026695526695526\n"
     ]
    }
   ],
   "source": [
    "covData = pd.read_csv('covariates.csv')\n",
    "filteredData = covData.filter(items=['e3_sex_None', 'hs_c_weight_None'])\n",
    "highestWtVal = filteredData['hs_c_weight_None'].max()\n",
    "sexOfHighestWt = filteredData.loc[filteredData['hs_c_weight_None'] == highestWtVal, 'e3_sex_None'].iloc[0]\n",
    "print(\"Highest Weight Value: \", highestWtVal)\n",
    "print(\"Sex of Highest Weight Value: \", sexOfHighestWt)\n",
    "# print(\"Highest weight\", dataSum['hs_c_weight_None'].max(), dataSum['hs_c_weight_None'].idxmax())\n",
    "mean = filteredData.loc[filteredData['e3_sex_None'] == sexOfHighestWt, 'hs_c_weight_None'].mean()\n",
    "print(\"Mean of the Highest Weight Value: \", mean)"
   ]
  },
  {
   "cell_type": "code",
   "execution_count": 73,
   "id": "bc1c7784",
   "metadata": {},
   "outputs": [
    {
     "name": "stdout",
     "output_type": "stream",
     "text": [
      "Number of missing values\n",
      " ID                  0\n",
      "e3_bw               0\n",
      "hs_asthma           0\n",
      "hs_zbmi_who         0\n",
      "hs_correct_raven    0\n",
      "hs_Gen_Tot          0\n",
      "hs_bmi_c_cat        0\n",
      "dtype: int64\n",
      "\n",
      "IDs of 6-11 year old with BMI of 3 and 4 are below:\n",
      "         ID\n",
      "2        3\n",
      "9       10\n",
      "10      11\n",
      "11      12\n",
      "14      15\n",
      "...    ...\n",
      "1289  1290\n",
      "1290  1291\n",
      "1294  1295\n",
      "1296  1297\n",
      "1298  1299\n",
      "\n",
      "[384 rows x 1 columns]\n",
      "No duplicate values found.\n"
     ]
    }
   ],
   "source": [
    "phenoData = pd.read_csv('phenotype.csv')\n",
    "missingVals = phenoData.isna().sum()\n",
    "print(\"Number of missing values\\n\", missingVals)\n",
    "overWeightObeseIds = phenoData.loc[phenoData['hs_bmi_c_cat'].isin([3, 4]), ['ID']]\n",
    "print(\"\\nIDs of 6-11 year old with BMI of 3 and 4 are below:\\n\", overWeightObeseIds)\n",
    "duplicateVals = overWeightObeseIds.duplicated()\n",
    "if duplicateVals.any():\n",
    "    print('Duplicate values found:')\n",
    "    print(overWeightObeseIds[duplicateVals])\n",
    "else:\n",
    "    print('No duplicate values found.')"
   ]
  }
 ],
 "metadata": {
  "kernelspec": {
   "display_name": "Python 3",
   "language": "python",
   "name": "python3"
  },
  "language_info": {
   "codemirror_mode": {
    "name": "ipython",
    "version": 3
   },
   "file_extension": ".py",
   "mimetype": "text/x-python",
   "name": "python",
   "nbconvert_exporter": "python",
   "pygments_lexer": "ipython3",
   "version": "3.8.8"
  }
 },
 "nbformat": 4,
 "nbformat_minor": 5
}
